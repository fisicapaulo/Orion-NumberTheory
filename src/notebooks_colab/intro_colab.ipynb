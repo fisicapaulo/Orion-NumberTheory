{
"nbformat": 4,
"nbformat_minor": 5,
"metadata": {
"colab": {
"name": "intro_colab.ipynb",
"provenance": []
},
"kernelspec": {
"display_name": "Python 3",
"language": "python",
"name": "python3"
}
},
"cells": [
{
"cell_type": "markdown",
"metadata": {},
"source": [
"# Introdução — Orion-NumberTheory (Colab)\n",
"\n",
"Este notebook demonstra um pequeno experimento em Teoria dos Números e define um padrão de organização para futuros estudos.\n",
"\n",
"Dicas:\n",
"- Mantenha funções utilitárias em células separadas.\n",
"- Salve saídas pesadas em results/ quando estiver localmente; no Colab, baixe os arquivos ou conecte ao Google Drive.\n"
]
},
{
"cell_type": "code",
"metadata": {},
"execution_count": null,
"outputs": [],
"source": [
"# Configurações iniciais (opcional)\n",
"import math, random\n",
"from datetime import datetime\n",
"print(f"Iniciado em: {datetime.now()}")\n"
]
},
{
"cell_type": "markdown",
"metadata": {},
"source": [
"## Funções auxiliares\n",
"Testes de primalidade simples e fatoração ingênua (apenas para números pequenos)."
]
},
{
"cell_type": "code",
"metadata": {},
"execution_count": null,
"outputs": [],
"source": [
"def is_prime(n: int) -> bool:\n",
"    if n < 2:\n",
"        return False\n",
"    if n % 2 == 0:\n",
"        return n == 2\n",
"    r = int(n ** 0.5)\n",
"    for d in range(3, r + 1, 2):\n",
"        if n % d == 0:\n",
"            return False\n",
"    return True\n",
"\n",
"def trial_division(n: int):\n",
"    """Fatora n por divisão por tentativas. Bom apenas para n pequenos."""\n",
"    if n == 0:\n",
"        return [(0, 1)]\n",
"    if n < 0:\n",
"        return [(-1, 1)] + trial_division(-n)\n",
"    factors = []\n",
"    d = 2\n",
"    while d * d <= n:\n",
"        c = 0\n",
"        while n % d == 0:\n",
"            n //= d\n",
"            c += 1\n",
"        if c:\n",
"            factors.append((d, c))\n",
"        d = 3 if d == 2 else d + 2\n",
"    if n > 1:\n",
"        factors.append((n, 1))\n",
"    return factors\n"
]
},
{
"cell_type": "markdown",
"metadata": {},
"source": [
"## Experimentos básicos\n",
"1) Liste primos em um intervalo pequeno.\n",
"2) Fatore inteiros aleatórios modestos.\n"
]
},
{
"cell_type": "code",
"metadata": {},
"execution_count": null,
"outputs": [],
"source": [
"# 1) Primos até 200\n",
"primos = [n for n in range(2, 201) if is_prime(n)]\n",
"primos\n"
]
},
{
"cell_type": "code",
"metadata": {},
"execution_count": null,
"outputs": [],
"source": [
"# 2) Fatoração de alguns inteiros aleatórios\n",
"nums = [random.randint(106, 106 + 5000) for _ in range(5)]\n",
"{n: trial_division(n) for n in nums}\n"
]
},
{
"cell_type": "markdown",
"metadata": {},
"source": [
"## Próximos passos\n",
"- Implementar um teste de primalidade probabilístico (Miller–Rabin).\n",
"- Comparar tempo de execução com trial_division.\n",
"- Organizar utilitários num módulo em src/ (quando o repositório evoluir).\n"
]
}
]
}
