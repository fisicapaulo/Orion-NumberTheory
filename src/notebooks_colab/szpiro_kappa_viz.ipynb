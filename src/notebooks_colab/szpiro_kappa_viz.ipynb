{
 "cells": [
  { "cell_type": "markdown", "metadata": {}, "source": ["# Szpiro — κ_eff Viz (Fase 4.1/4.2)"] },
  { "cell_type": "code", "metadata": {}, "source": [
    "!pip -q install pandas matplotlib",
    "import pandas as pd, matplotlib.pyplot as plt, math",
    "local_csv = '/content/ell_curves_local.csv'",
    "df = pd.read_csv(local_csv)",
    "g = df.groupby('curve_id').agg({ 'conductor_N':'max', 'discriminant_Delta':'max' }).reset_index()",
    "g['kappa_eff'] = g.apply(lambda r: math.log(abs(r['discriminant_Delta']))/math.log(r['conductor_N']) if r['conductor_N']>1 and abs(r['discriminant_Delta'])>1 else float('nan'), axis=1)",
    "ax = g['kappa_eff'].plot(kind='hist', bins=60, figsize=(6,4), alpha=0.7)",
    "plt.xlabel('κ_eff'); plt.ylabel('freq'); plt.tight_layout(); plt.savefig('/content/kappa_hist.png'); print('OK')"
  ], "execution_count": null, "outputs": [] }
 ],
 "metadata": {
  "colab": { "name": "szpiro_kappa_viz.ipynb" },
  "kernelspec": { "display_name": "Python 3", "language": "python", "name": "python3" }
 },
 "nbformat": 4, "nbformat_minor": 5
}

