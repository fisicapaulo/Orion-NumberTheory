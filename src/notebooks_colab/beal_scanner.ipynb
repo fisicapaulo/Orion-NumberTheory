{
 "cells": [
  {
   "cell_type": "markdown",
   "metadata": {},
   "source": ["# Beal Scanner — Fase 1.1 (Geração e Filtros)"]
  },
  {
   "cell_type": "code",
   "metadata": {},
   "source": [
    "# Setup\n",
    "!pip -q install sympy numpy pandas\n",
    "import math, random, time, json, os\n",
    "import numpy as np, pandas as pd\n",
    "from math import gcd\n",
    "\n",
    "# Parâmetros\n",
    "SEED = 12345\n",
    "random.seed(SEED)\n",
    "A_MAX, B_MAX, C_MAX = 2000, 2000, 2000\n",
    "EXPS = [3,4,5]\n",
    "OUT_CAND = '/content/beal_candidates.csv'\n",
    "\n",
    "def chained_gcd(a,b,c):\n",
    "    return gcd(gcd(abs(a), abs(b)), abs(c))\n",
    "\n",
    "def small_mod_filters(A,B,C, exps=EXPS):\n",
    "    # Ex.: redução mod 3 e mod 4 (placeholder simples)\n",
    "    for x in exps:\n",
    "        for y in exps:\n",
    "            for z in exps:\n",
    "                if (pow(A,x,3)+pow(B,y,3))%3 == pow(C,z,3)%3:\n",
    "                    return True\n",
    "    return False\n",
    "\n",
    "rows = []\n",
    "for A in range(2, A_MAX+1):\n",
    "  for B in range(A, B_MAX+1):\n",
    "    for C in range(B, C_MAX+1):\n",
    "      if not small_mod_filters(A,B,C):\n",
    "        continue\n",
    "      g = chained_gcd(A,B,C)\n",
    "      if g != 1:\n",
    "        continue\n",
    "      # Armazena apenas candidatos estruturais; expoentes tratados depois\n",
    "      rows.append({\"A\":A,\"B\":B,\"C\":C,\"seed\":SEED,\"timestamp\":time.time()})\n",
    "\n",
    "df = pd.DataFrame(rows)\n",
    "df.to_csv(OUT_CAND, index=False)\n",
    "print(f\"Candidatos salvos em {OUT_CAND} -> {len(df)} linhas\")\n"
   ],
   "execution_count": null,
   "outputs": []
  },
  {
   "cell_type": "markdown",
   "metadata": {},
   "source": ["## Próximos passos (Fase 1.2)\n- Implementar is_perfect_power(n, y)\n- Verificar A^x + B^y = C^z em big int\n- Exportar /results/beal_report.csv"]
  }
 ],
 "metadata": {
  "colab": { "name": "beal_scanner.ipynb" },
  "kernelspec": { "display_name": "Python 3", "language": "python", "name": "python3" },
  "language_info": { "name": "python" }
 },
 "nbformat": 4,
 "nbformat_minor": 5
}

