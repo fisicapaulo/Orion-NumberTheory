{
 "cells": [
  { "cell_type": "markdown", "metadata": {}, "source": ["# Szpiro — Agregação Global e Gráficos (Fase 3.4)"] },
  { "cell_type": "code", "metadata": {}, "source": [
    "!pip -q install pandas matplotlib",
    "import pandas as pd, matplotlib.pyplot as plt",
    "local_csv = '/content/ell_curves_local.csv'  # faça upload do /data",
    "df = pd.read_csv(local_csv)",
    "g = df.groupby('curve_id').agg({ 'conductor_N':'max', 'discriminant_Delta':'max' }).reset_index()",
    "import math",
    "g['log_abs_Delta'] = g['discriminant_Delta'].abs().map(lambda x: math.log(x) if x>0 else float('nan'))",
    "g['log_N'] = g['conductor_N'].map(lambda x: math.log(x) if x>0 else float('nan'))",
    "g['metric'] = g['log_abs_Delta'] - 6*g['log_N']",
    "g.to_csv('/content/szpiro_global.csv', index=False)",
    "plt.figure(figsize=(6,4)); plt.scatter(g['log_N'], g['log_abs_Delta'], s=6, alpha=0.4)",
    "plt.xlabel('log N'); plt.ylabel('log |Δ|'); plt.title('Szpiro: log|Δ| vs log N')",
    "plt.tight_layout(); plt.savefig('/content/plots_szpiro.png'); print('OK')"
  ], "execution_count": null, "outputs": [] }
 ],
 "metadata": {
  "colab": { "name": "szpiro_aggregate_plot.ipynb" },
  "kernelspec": { "display_name": "Python 3", "language": "python", "name": "python3" }
 },
 "nbformat": 4, "nbformat_minor": 5
}

