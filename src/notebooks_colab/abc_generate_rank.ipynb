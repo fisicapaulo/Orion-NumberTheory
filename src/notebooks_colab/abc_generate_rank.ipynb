{
 "cells": [
  { "cell_type": "markdown", "metadata": {}, "source": ["# ABC — Geração e Ranking (Fase 2.1)"] },
  { "cell_type": "code", "metadata": {}, "source": [
    "# Setup",
    "!pip -q install sympy numpy pandas",
    "import time, os, json, math, random",
    "import numpy as np, pandas as pd",
    "from sympy import factorint",
    "SEED=123; random.seed(SEED)",
    "C_MAX=10000",
    "OUT_PENDING='/content/abc_pending.csv'",
    "OUT_TOP='/content/abc_top_prelim.csv'",
    "",
    "def rad_from_factorint(f):",
    "    r=1",
    "    for p in f.keys(): r*=p",
    "    return r",
    "",
    "rows_pending=[]; rows_top=[]",
    "for c in range(3, C_MAX+1):",
    "  for a in range(1, c):",
    "    b = c - a",
    "    if math.gcd(a,b)!=1: continue",
    "    try:",
    "      fa = factorint(a, limit=100000)",
    "      fb = factorint(b, limit=100000)",
    "      fc = factorint(c, limit=100000)",
    "      rad = rad_from_factorint(fa) * rad_from_factorint(fb) * rad_from_factorint(fc)",
    "      q = math.log(c)/math.log(rad)",
    "      rows_top.append({\"a\":a,\"b\":b,\"c\":c,\"rad\":rad,\"q\":q,\"method\":\"sympy\",\"seed\":SEED,\"ts\":time.time()})",
    "    except Exception as e:",
    "      rows_pending.append({\"a\":a,\"b\":b,\"c\":c,\"rad_partial\":None,\"needs_sage\":True,\"seed\":SEED,\"ts\":time.time()})",
    "",
    "pd.DataFrame(rows_pending).to_csv(OUT_PENDING, index=False)",
    "pd.DataFrame(rows_top).sort_values(\"q\", ascending=False).head(1000).to_csv(OUT_TOP, index=False)",
    "print(\"Salvos:\", OUT_PENDING, OUT_TOP)"
  ], "execution_count": null, "outputs": [] }
 ],
 "metadata": {
  "colab": { "name": "abc_generate_rank.ipynb" },
  "kernelspec": { "display_name": "Python 3", "language": "python", "name": "python3" }
 },
 "nbformat": 4, "nbformat_minor": 5
}

